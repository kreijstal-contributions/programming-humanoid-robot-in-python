{
 "cells": [
  {
   "cell_type": "code",
   "execution_count": 1,
   "id": "efc8c3eb",
   "metadata": {},
   "outputs": [],
   "source": [
    "'''In this exercise you need to implement forward kinematics for NAO robot\n",
    "\n",
    "* Tasks:\n",
    "    1. complete the kinematics chain definition (self.chains in class ForwardKinematicsAgent)\n",
    "       The documentation from Aldebaran is here:\n",
    "       http://doc.aldebaran.com/2-1/family/robots/bodyparts.html#effector-chain\n",
    "    2. implement the calculation of local transformation for one joint in function\n",
    "       ForwardKinematicsAgent.local_trans. The necessary documentation are:\n",
    "       http://doc.aldebaran.com/2-1/family/nao_h21/joints_h21.html\n",
    "       http://doc.aldebaran.com/2-1/family/nao_h21/links_h21.html\n",
    "    3. complete function ForwardKinematicsAgent.forward_kinematics, save the transforms of all body parts in torso\n",
    "       coordinate into self.transforms of class ForwardKinematicsAgent\n",
    "\n",
    "* Hints:\n",
    "    1. the local_trans has to consider different joint axes and link parameters for different joints\n",
    "    2. Please use radians and meters as unit.\n",
    "'''\n",
    "\n",
    "# add PYTHONPATH\n",
    "import os\n",
    "import sys\n",
    "sys.path.append(os.path.join(os.getcwd(), 'joint_control'))\n",
    "\n",
    "from numpy.matlib import matrix, identity\n",
    "import numpy as np\n",
    "from recognize_posture import PostureRecognitionAgent\n",
    "import pandas as pd\n",
    "from io import StringIO\n",
    "def Traf3d(roll,pitch,yaw,dx,dy,dz):\n",
    "    return np.r_[np.c_[RollPitchYawMatrix(roll,pitch,yaw),np.array([dx,dy,dz]).reshape((3,1))],np.c_[np.zeros((1,3)),1]]\n",
    "df = pd.read_csv(StringIO(\"\"\"HeadYaw,        2,0,0,0.1265\n",
    "HeadPitch,      1,0,0,0\n",
    "LShoulderPitch, 1,0,0.098,0.1\n",
    "LShoulderRoll,  0,0,0,0\n",
    "LElbowYaw,      2,0.105,0.015,0\n",
    "LElbowRoll,     0,0,0,0\n",
    "LWristYaw2,     2,0.05595,0,0\n",
    "LHipYawPitch,   1,0,0.05,-0.085\n",
    "LHipRoll,       0,0,0,0\n",
    "LHipPitch,      1,0,0,0\n",
    "LKneePitch,     1,0,0,-0.1\n",
    "LAnklePitch,    1,0,0,-0.1029\n",
    "LAnkleRoll,     0,0,0,0\n",
    "RHipYawPitch,   1,0,-0.05,-0.085\n",
    "RHipRoll,       0,0,0,0\n",
    "RHipPitch,      1,0,0,0\n",
    "RKneePitch,     1,0,0,-0.1\n",
    "RAnklePitch,    1,0,0,-0.1029\n",
    "RAnkleRoll,     0,0,0,0\n",
    "RShoulderPitch, 1,0,-0.098,0.1\n",
    "RShoulderRoll,  0,0,0,0\n",
    "RElbowYaw,      2,0.105,-0.015,0\n",
    "RElbowRoll,     0,0,0,0\n",
    "RWristYaw2,     2,0.05595,0,0\"\"\"), header=None)\n",
    "jointAngleLinksDict=dict(map(lambda a:(a[0],a[1:]),df.values))\n",
    "def RollPitchYawMatrix(roll,pitch,yaw):\n",
    "    return [[np.cos(roll)* np.cos(pitch),np.sin(roll) *-np.cos(pitch),np.sin(pitch)],\n",
    "           [np.sin(yaw)* np.cos(roll)* np.sin(pitch) +  np.cos(yaw) * np.sin(roll),np.cos(yaw) *np.cos(roll)-np.sin(yaw) *np.sin(roll)* np.sin(pitch),np.sin(yaw)* -np.cos(pitch)],\n",
    "           [np.sin(yaw) *np.sin(roll)-np.cos(yaw) *np.cos(roll) *np.sin(pitch),np.cos(yaw) *np.sin(roll) *np.sin(pitch)+np.sin(yaw) *np.cos(roll),np.cos(yaw) *np.cos(pitch)]]\n",
    "\n",
    "class ForwardKinematicsAgent(PostureRecognitionAgent):\n",
    "    def __init__(self, simspark_ip='localhost',\n",
    "                 simspark_port=3100,\n",
    "                 teamname='DAInamite',\n",
    "                 player_id=0,\n",
    "                 sync_mode=True):\n",
    "        super(ForwardKinematicsAgent, self).__init__(simspark_ip, simspark_port, teamname, player_id, sync_mode)\n",
    "        self.transforms = {n: identity(4) for n in self.joint_names}\n",
    "\n",
    "        # chains defines the name of chain and joints of the chain\n",
    "        self.chains = {'Head': ['HeadYaw', 'HeadPitch'],\n",
    "                       # YOUR CODE HERE\n",
    "                       'LArm':['LShoulderPitch', 'LShoulderRoll', 'LElbowYaw', 'LElbowRoll'],\n",
    "                       'LLeg':['LHipYawPitch', 'LHipRoll', 'LHipPitch', 'LKneePitch', 'LAnklePitch', 'RAnkleRoll'],\n",
    "                       'RLeg':['RHipYawPitch', 'RHipRoll', 'RHipPitch', 'RKneePitch', 'RAnklePitch', 'LAnkleRoll'],\n",
    "                       'RArm':['RShoulderPitch', 'RShoulderRoll', 'RElbowYaw', 'RElbowRoll']\n",
    "                       }\n",
    "\n",
    "    def think(self, perception):\n",
    "        self.forward_kinematics(perception.joint)\n",
    "        return super(ForwardKinematicsAgent, self).think(perception)\n",
    "\n",
    "    def local_trans(self, joint_name, joint_angle):\n",
    "        '''calculate local transformation of one joint\n",
    "\n",
    "        :param str joint_name: the name of joint\n",
    "        :param float joint_angle: the angle of joint in radians\n",
    "        :return: transformation\n",
    "        :rtype: 4x4 matrix\n",
    "        '''\n",
    "        #T = identity(4)\n",
    "        # YOUR CODE HERE\n",
    "        T = (lambda _:Traf3d(*np.roll(np.eye(1,3), _[0]).flatten()*joint_angle,*_[1:]))(jointAngleLinksDict[joint_name])\n",
    "        return T\n",
    "\n",
    "    def forward_kinematics(self, joints):\n",
    "        '''forward kinematics\n",
    "\n",
    "        :param joints: {joint_name: joint_angle}\n",
    "        '''\n",
    "        #print(joints)\n",
    "        for chain_joints in self.chains.values():\n",
    "            T = identity(4)\n",
    "            for joint in chain_joints:\n",
    "                angle = joints[joint]\n",
    "                Tl = self.local_trans(joint, angle)\n",
    "                # YOUR CODE HERE\n",
    "                T*=Tl\n",
    "                self.transforms[joint] = T\n",
    "\n",
    "#if __name__ == '__main__':\n",
    "#agent = ForwardKinematicsAgent()\n",
    "#agent.run()\n"
   ]
  },
  {
   "cell_type": "code",
   "execution_count": null,
   "id": "239e50ce",
   "metadata": {},
   "outputs": [],
   "source": [
    "agent.socket.close()"
   ]
  },
  {
   "cell_type": "code",
   "execution_count": null,
   "id": "1ff56df9",
   "metadata": {},
   "outputs": [],
   "source": [
    "from ipywidgets import interact, fixed"
   ]
  },
  {
   "cell_type": "code",
   "execution_count": null,
   "id": "947a2ed2",
   "metadata": {},
   "outputs": [],
   "source": [
    "@interact(n=(0,1,0.1))\n",
    "def printi(n):\n",
    "    print(n)"
   ]
  },
  {
   "cell_type": "code",
   "execution_count": null,
   "id": "d70b074b",
   "metadata": {},
   "outputs": [],
   "source": [
    "#def RollPitchYawMatrix(roll,yaw,pitch):\n",
    " #   return [[np.cos(roll)* np.cos(yaw),np.sin(roll) *(-np.cos(yaw)),np.sin(yaw)]\n",
    "  #         [np.sin(pitch)* np.cos(roll)* np.sin(yaw) +  np.cos(pitch) * np.sin(roll),np.cos(pitch) *np.cos(roll)-np.sin(pitch) *np.sin(roll)* np.sin(yaw),np.sin(pitch)* (-np.cos(yaw))],\n",
    "   #        [np.sin(pitch) *np.sin(roll)-np.cos(pitch) *np.cos(roll) *np.sin(yaw),np.cos(pitch) *np.sin(roll) *np.sin(yaw)+np.sin(pitch) *np.cos(roll),np.cos(pitch) *np.cos(yaw)]]"
   ]
  },
  {
   "cell_type": "code",
   "execution_count": null,
   "id": "06520e17",
   "metadata": {},
   "outputs": [],
   "source": [
    "(lambda _:Traf3d(*np.roll(np.eye(1,3), _[0]).flatten()*0.9,*_[1:]))(jointAngleLinksDict['HeadYaw'])"
   ]
  },
  {
   "cell_type": "code",
   "execution_count": 2,
   "id": "065adc9e",
   "metadata": {},
   "outputs": [
    {
     "name": "stdout",
     "output_type": "stream",
     "text": [
      "C:\\Users\\kreij\\ok\\programming-humanoid-robot-in-python\n",
      "turned off\n",
      "Preparing animation 'rightBellyToStand'\n",
      "turned on\n",
      "Preparing animation 'leftBackToStand'\n",
      "turned off\n",
      "Preparing animation 'leftBackToStand'\n",
      "turned on\n",
      "Preparing animation 'leftBellyToStand'\n",
      "Preparing animation 'rightBackToStand'\n",
      "Preparing animation 'rightBackToStand'\n",
      "turned off\n",
      "Preparing animation 'rightBackToStand'\n",
      "turned on\n",
      "Preparing animation 'leftBellyToStand'\n",
      "Preparing animation 'leftBackToStand'\n",
      "turned off\n",
      "Preparing animation 'rightBackToStand'\n",
      "turned on\n",
      "Preparing animation 'rightBackToStand'\n"
     ]
    }
   ],
   "source": [
    "from recognize_posture import PostureRecognitionAgent\n",
    "import keyframes\n",
    "import random\n",
    "class StandingUpAgent(PostureRecognitionAgent):\n",
    "    def think(self, perception):\n",
    "        self.standing_up(perception)\n",
    "        #if hasattr(self,\"fqueue\") and len(self.fqueue)>=1:\n",
    "        #    self.fqueue.pop(0)(self,perception)\n",
    "        return super(StandingUpAgent, self).think(perception)\n",
    "\n",
    "    def standing_up(self,perception):\n",
    "        posture = self.posture\n",
    "        t = perception.time\n",
    "        if t < self.animation_end_time:\n",
    "            return\n",
    "        \"\"\"if perception.time - self.stiffness_on_off_time < self.stiffness_off_cycle \\\n",
    "            or perception.time - self.stiffness_on_off_time - self.stiffness_on_cycle + self.stiffness_off_cycle > 0.5:\n",
    "            self.joint_controller.set_enabled(False)\n",
    "            return\n",
    "        self.joint_controller.set_enabled(True)\"\"\"\n",
    "        if posture == 'Back':\n",
    "            keyframe_fun = random.choice([keyframes.leftBackToStand, keyframes.rightBackToStand])\n",
    "        elif posture == 'Belly':\n",
    "            keyframe_fun = random.choice([keyframes.leftBellyToStand, keyframes.rightBellyToStand])\n",
    "        else:\n",
    "            return\n",
    "        print(f\"Preparing animation '{keyframe_fun.__name__}'\")\n",
    "        names, times, keys = keyframe_fun()\n",
    "        \"\"\"_, ctimes, ckeys = self.perception_as_keyframe(perception, 0.5, names)\n",
    "        if posture == 'Belly':\n",
    "            keys[names.index('LShoulderPitch')][0] = ckeys[names.index('LShoulderPitch')]\n",
    "            keys[names.index('RShoulderPitch')][0] = ckeys[names.index('RShoulderPitch')]\n",
    "        for i in range(len(names)):\n",
    "            times[i].insert(0, ctimes[i])\n",
    "            keys[i].insert(0, ckeys[i])\"\"\"\n",
    "        self.keyframes = (names, times, keys)\n",
    "        self.reset_animation_time(t)\n",
    "        \"\"\"posture = self.posture\n",
    "        #if posture!=\"unknown\":\n",
    "        #    print(\"posture:\"+posture)\n",
    "        # YOUR CODE HERE\n",
    "        #print(agent.keyframes)\n",
    "        if  len(agent.keyframes)<2 or len(agent.keyframes[1])==0:\n",
    "            #print(\"posture:\"+posture)\n",
    "            if posture==\"Belly\":\n",
    "                self.time=-1\n",
    "                self.keyframes=keyframes.rightBellyToStand()\n",
    "            elif posture==\"Back\":\n",
    "                self.time=-1\n",
    "                if np.random.randint(2)==1:\n",
    "                    self.keyframes=keyframes.leftBackToStand()\n",
    "                else:\n",
    "                    self.keyframes=keyframes.rightBackToStand()\n",
    "                    \"\"\"\n",
    "\n",
    "\n",
    "class TestStandingUpAgent(StandingUpAgent):\n",
    "    '''this agent turns off all motor to falls down in fixed cycles\n",
    "    '''\n",
    "    def __init__(self, simspark_ip='localhost',\n",
    "                 simspark_port=3100,\n",
    "                 teamname='DAInamite',\n",
    "                 player_id=0,\n",
    "                 sync_mode=True):\n",
    "        super(TestStandingUpAgent, self).__init__(simspark_ip, simspark_port, teamname, player_id, sync_mode)\n",
    "        self.stiffness_on_off_time = 0\n",
    "        self.stiffness_on_cycle = 40  # in seconds\n",
    "        self.stiffness_off_cycle = 3  # in seconds\n",
    "        self.isOn = True\n",
    "\n",
    "    def think(self, perception):\n",
    "        #print(perception.joint)\n",
    "        action = super(TestStandingUpAgent, self).think(perception)\n",
    "        time_now = perception.time\n",
    "        \n",
    "        if time_now - self.stiffness_on_off_time < self.stiffness_off_cycle:\n",
    "            if(self.isOn):\n",
    "                print(\"turned off\")\n",
    "            self.isOn=False\n",
    "            action.stiffness = {j: 0 for j in self.joint_names}  # turn off joints\n",
    "        else:\n",
    "            if(not self.isOn):\n",
    "                print(\"turned on\")\n",
    "            self.isOn=True\n",
    "            action.stiffness = {j: 1 for j in self.joint_names}  # turn on joints\n",
    "        if time_now - self.stiffness_on_off_time > self.stiffness_on_cycle + self.stiffness_off_cycle:\n",
    "            self.stiffness_on_off_time = time_now\n",
    "\n",
    "        return action\n",
    "\n",
    "\n",
    "#if __name__ == '__main__':\n",
    "agent = TestStandingUpAgent()\n",
    "agent.start()"
   ]
  },
  {
   "cell_type": "code",
   "execution_count": null,
   "id": "adefaddf",
   "metadata": {},
   "outputs": [],
   "source": [
    "agent.fqueue.push(lambda self,perception:print(self.time))"
   ]
  },
  {
   "cell_type": "code",
   "execution_count": null,
   "id": "032a1ace",
   "metadata": {
    "scrolled": false
   },
   "outputs": [],
   "source": [
    "agent.fqueue=[x]"
   ]
  },
  {
   "cell_type": "code",
   "execution_count": null,
   "id": "d01cf1c1",
   "metadata": {},
   "outputs": [],
   "source": [
    "def x(self,perception):\n",
    "    self.time=-1\n",
    "    self.keyframes=keyframes.leftBackToStand()"
   ]
  },
  {
   "cell_type": "code",
   "execution_count": null,
   "id": "28afeedc",
   "metadata": {},
   "outputs": [],
   "source": [
    "def x(self,perception):\n",
    "    action=self.think(perception)\n",
    "    action.stiffness={j: 0 for j in self.joint_names}\n",
    "    "
   ]
  },
  {
   "cell_type": "code",
   "execution_count": null,
   "id": "bac8e45f",
   "metadata": {},
   "outputs": [],
   "source": [
    "(1,*(2,3,4)[:-1])"
   ]
  },
  {
   "cell_type": "code",
   "execution_count": null,
   "id": "971e683a",
   "metadata": {},
   "outputs": [],
   "source": [
    "def lambdaSpread(l):\n",
    "    return lambda _:(l)(*_)"
   ]
  },
  {
   "cell_type": "code",
   "execution_count": null,
   "id": "f144a01b",
   "metadata": {},
   "outputs": [],
   "source": [
    "list(map(lambdaSpread(lambda n,t,k:(n,t,k)),zip(*keyframes.hello())))"
   ]
  },
  {
   "cell_type": "code",
   "execution_count": null,
   "id": "e7837879",
   "metadata": {},
   "outputs": [],
   "source": [
    "def binary_search(left, right, val_fun, value):\n",
    "    assert left <= right\n",
    "\n",
    "    if value < val_fun(left):\n",
    "        return left\n",
    "\n",
    "    if isinstance(left, int) and isinstance(right, int):\n",
    "        def mid_fun(l, r): return (l + r) // 2 + (l + r) % 2\n",
    "        cmp_eps = 0\n",
    "        edge_eps = 1\n",
    "    else:\n",
    "        def mid_fun(l, r): return (l + r) / 2\n",
    "        cmp_eps = 0.000001\n",
    "        edge_eps = 0.0\n",
    "\n",
    "    while right - left > cmp_eps:\n",
    "        mid = mid_fun(left, right)\n",
    "        mid_val = val_fun(mid)\n",
    "        if value < mid_val:\n",
    "            right = mid - edge_eps\n",
    "        else:\n",
    "            left = mid\n",
    "    assert val_fun(left) <= value\n",
    "    return left"
   ]
  },
  {
   "cell_type": "code",
   "execution_count": null,
   "id": "fa795572",
   "metadata": {},
   "outputs": [],
   "source": [
    "binary_search(0, 4, lambda _:asdf[_], 0.3)"
   ]
  },
  {
   "cell_type": "code",
   "execution_count": null,
   "id": "c04e61ba",
   "metadata": {},
   "outputs": [],
   "source": [
    "asdf=[-0.8,0.4,3.,4.,5.]"
   ]
  },
  {
   "cell_type": "code",
   "execution_count": null,
   "id": "7aedb030",
   "metadata": {},
   "outputs": [],
   "source": [
    "np.random.random()"
   ]
  },
  {
   "cell_type": "code",
   "execution_count": null,
   "id": "d511b116",
   "metadata": {},
   "outputs": [],
   "source": []
  },
  {
   "cell_type": "code",
   "execution_count": null,
   "id": "add570f2",
   "metadata": {},
   "outputs": [],
   "source": []
  },
  {
   "cell_type": "code",
   "execution_count": null,
   "id": "6aebf9cd",
   "metadata": {},
   "outputs": [],
   "source": []
  }
 ],
 "metadata": {
  "kernelspec": {
   "display_name": "Python 3 (ipykernel)",
   "language": "python",
   "name": "python3"
  },
  "language_info": {
   "codemirror_mode": {
    "name": "ipython",
    "version": 3
   },
   "file_extension": ".py",
   "mimetype": "text/x-python",
   "name": "python",
   "nbconvert_exporter": "python",
   "pygments_lexer": "ipython3",
   "version": "3.7.8"
  }
 },
 "nbformat": 4,
 "nbformat_minor": 5
}
